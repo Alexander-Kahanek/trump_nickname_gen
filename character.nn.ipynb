{
 "metadata": {
  "language_info": {
   "codemirror_mode": {
    "name": "ipython",
    "version": 3
   },
   "file_extension": ".py",
   "mimetype": "text/x-python",
   "name": "python",
   "nbconvert_exporter": "python",
   "pygments_lexer": "ipython3",
   "version": "3.8.3-final"
  },
  "orig_nbformat": 2,
  "kernelspec": {
   "name": "python38364bit31a300f32e4a4979894c2ccf59316df7",
   "display_name": "Python 3.8.3 64-bit"
  }
 },
 "nbformat": 4,
 "nbformat_minor": 2,
 "cells": [
  {
   "cell_type": "code",
   "execution_count": 111,
   "metadata": {},
   "outputs": [
    {
     "output_type": "execute_result",
     "data": {
      "text/plain": [
       "       fake name           real name  len fake  len real  \\\n",
       "0          dumbo  randolph tex alles         1         3   \n",
       "1  wheres hunter        hunter biden         2         2   \n",
       "2         1% joe           joe biden         2         2   \n",
       "3   basement joe           joe biden         3         2   \n",
       "4    beijing joe           joe biden         3         2   \n",
       "\n",
       "                     category  \\\n",
       "0  domestic political figures   \n",
       "1  domestic political figures   \n",
       "2  domestic political figures   \n",
       "3  domestic political figures   \n",
       "4  domestic political figures   \n",
       "\n",
       "                                               notes  count  \n",
       "0       director of the united states secret service      1  \n",
       "1  american lawyer and lobbyist who is the second...      1  \n",
       "2  47th vice president of the united states; form...      1  \n",
       "3  47th vice president of the united states; form...      1  \n",
       "4  47th vice president of the united states; form...      1  "
      ],
      "text/html": "<div>\n<style scoped>\n    .dataframe tbody tr th:only-of-type {\n        vertical-align: middle;\n    }\n\n    .dataframe tbody tr th {\n        vertical-align: top;\n    }\n\n    .dataframe thead th {\n        text-align: right;\n    }\n</style>\n<table border=\"1\" class=\"dataframe\">\n  <thead>\n    <tr style=\"text-align: right;\">\n      <th></th>\n      <th>fake name</th>\n      <th>real name</th>\n      <th>len fake</th>\n      <th>len real</th>\n      <th>category</th>\n      <th>notes</th>\n      <th>count</th>\n    </tr>\n  </thead>\n  <tbody>\n    <tr>\n      <th>0</th>\n      <td>dumbo</td>\n      <td>randolph tex alles</td>\n      <td>1</td>\n      <td>3</td>\n      <td>domestic political figures</td>\n      <td>director of the united states secret service</td>\n      <td>1</td>\n    </tr>\n    <tr>\n      <th>1</th>\n      <td>wheres hunter</td>\n      <td>hunter biden</td>\n      <td>2</td>\n      <td>2</td>\n      <td>domestic political figures</td>\n      <td>american lawyer and lobbyist who is the second...</td>\n      <td>1</td>\n    </tr>\n    <tr>\n      <th>2</th>\n      <td>1% joe</td>\n      <td>joe biden</td>\n      <td>2</td>\n      <td>2</td>\n      <td>domestic political figures</td>\n      <td>47th vice president of the united states; form...</td>\n      <td>1</td>\n    </tr>\n    <tr>\n      <th>3</th>\n      <td>basement joe</td>\n      <td>joe biden</td>\n      <td>3</td>\n      <td>2</td>\n      <td>domestic political figures</td>\n      <td>47th vice president of the united states; form...</td>\n      <td>1</td>\n    </tr>\n    <tr>\n      <th>4</th>\n      <td>beijing joe</td>\n      <td>joe biden</td>\n      <td>3</td>\n      <td>2</td>\n      <td>domestic political figures</td>\n      <td>47th vice president of the united states; form...</td>\n      <td>1</td>\n    </tr>\n  </tbody>\n</table>\n</div>"
     },
     "metadata": {},
     "execution_count": 111
    }
   ],
   "source": [
    "import pandas as pd\n",
    "import numpy as np\n",
    "import spacy\n",
    "\n",
    "raw = pd.read_csv('cleaned.nicknames.csv')\n",
    "\n",
    "model = spacy.load('en_core_web_sm')\n",
    "\n",
    "# add period so training knows when its done\n",
    "nicknames = [f'{name}.' for name in raw['fake name']]\n",
    "realnames = [f'{name}' for name in raw['real name']]\n",
    "\n",
    "raw.head()"
   ]
  },
  {
   "cell_type": "code",
   "execution_count": 112,
   "metadata": {},
   "outputs": [
    {
     "output_type": "execute_result",
     "data": {
      "text/plain": [
       "[{dumbo: 'PROPN'},\n",
       " {where: 'ADV', s: 'PROPN', hunter: 'VERB'},\n",
       " {1: 'NUM', %: 'NOUN', joe: 'PROPN'}]"
      ]
     },
     "metadata": {},
     "execution_count": 112
    }
   ],
   "source": [
    "# pos tagging\n",
    "def nlp(name):\n",
    "    name = model(name)\n",
    "    return {word: word.pos_ for word in name}\n",
    "\n",
    "test = [nlp(name) for name in raw['fake name']]\n",
    "\n",
    "test[0:3]\n",
    "\n",
    "# for name in test:\n",
    "#     print(name)\n",
    "#     for token in name:\n",
    "#         print(token, token.pos_)"
   ]
  },
  {
   "cell_type": "code",
   "execution_count": 113,
   "metadata": {},
   "outputs": [
    {
     "output_type": "stream",
     "name": "stdout",
     "text": [
      "['dumbo.', 'wheres hunter.', '1% joe.'] ['randolph tex alles', 'hunter biden', 'joe biden']\n"
     ]
    }
   ],
   "source": [
    "print(nicknames[0:3], realnames[0:3])"
   ]
  },
  {
   "cell_type": "code",
   "execution_count": 181,
   "metadata": {},
   "outputs": [],
   "source": [
    "# vectorize names\n",
    "##########################\n",
    "allnames = nicknames + realnames\n",
    "\n",
    "# max char length in names\n",
    "max_chars = max([len(name) for name in allnames])\n",
    "# max_real_chars = max([len(name) for name in realnames])\n",
    "# total number of names\n",
    "n = len(nicknames)\n",
    "# nicknames to realnames\n",
    "nick2real = {nicknames[i]:realnames[i] for i in range(n)}\n",
    "# character to index\n",
    "char2i = {char:0 for name in allnames for char in name}\n",
    "char2i = {char:n for n, char in enumerate(dictionary)}\n",
    "# index to character\n",
    "i2char = {char2i[char]: char for char in char2i}\n",
    "char_dimensions = len(i2char)\n",
    "\n",
    "# set up vectors for output = nicknames\n",
    "output = np.zeros((n, max_chars, char_dimensions))\n",
    "# set up vectors for label = real names\n",
    "label = np.zeros((n, max_chars, char_dimensions))\n",
    "\n",
    "# vectorize output and labels\n",
    "for i, name in enumerate(nicknames):\n",
    "    name = list(name)\n",
    "    for row, ch in enumerate(name):\n",
    "        # assign 1 to nickname, character number, vocab index\n",
    "        output[i, row, char2i[ch]] = 1\n",
    "        # if row < len(name)-1:\n",
    "        #     # print(j)\n",
    "        #     label[i, row, char2i[ch]] = 1\n",
    "        \n",
    "    for row, ch in enumerate(nick2real[''.join(name)]):\n",
    "        # assign 1 to real name, character number, vocab index\n",
    "        label[i, row, char2i[ch]] = 1"
   ]
  },
  {
   "cell_type": "code",
   "execution_count": 182,
   "metadata": {},
   "outputs": [],
   "source": [
    "from keras.models import Sequential\n",
    "from keras.layers import LSTM, Dense\n",
    "from keras.callbacks import LambdaCallback\n",
    "\n",
    "model = Sequential()\n",
    "model.add(LSTM(128, input_shape=(max_chars, char_dimensions), return_sequences=True))\n",
    "model.add(Dense(char_dimensions, activation='softmax'))\n",
    "\n",
    "model.compile(loss='categorical_crossentropy', optimizer='adam')"
   ]
  },
  {
   "cell_type": "code",
   "execution_count": 359,
   "metadata": {},
   "outputs": [],
   "source": [
    "def generate_name(model, limit, input):\n",
    "    # vectorize the input\n",
    "    word_vec = np.zeros((1, max_chars, char_dimensions))\n",
    "    # for row, ch in enumerate(input):\n",
    "    #     # assign 1 to nickname, character number, vocab index\n",
    "    #     word_vec[0, row, char2i[ch]] = 1\n",
    "\n",
    "    def predict(index):\n",
    "        # pull probabilities for character index\n",
    "        probabilities = list(model.predict(word_vec)[0,index])\n",
    "        # normalize probabilities\n",
    "        probabilities = probabilities / np.sum(probabilities)\n",
    "        if index == limit-1:\n",
    "            return '.'\n",
    "        # guess a letter\n",
    "        guess = np.random.choice(range(char_dimensions), p=probabilities) # choose a letter\n",
    "        word_vec[0, index+1, guess] = 1\n",
    "        return i2char[guess]\n",
    "\n",
    "\n",
    "    gen_name = ''.join([predict(i) for i in range(limit)])\n",
    "    print(f'{input}: {gen_name}')"
   ]
  },
  {
   "cell_type": "code",
   "execution_count": 332,
   "metadata": {
    "tags": []
   },
   "outputs": [
    {
     "output_type": "stream",
     "name": "stdout",
     "text": [
      "Names generated after epoch 0:\n",
      "alex kahanek: aee  azinnss.\n",
      "joe biden: joe bidensee.\n",
      "barack obama: beraiiie sns.\n",
      "\n",
      "Names generated after epoch 1000:\n",
      "alex kahanek: alt  oonnsss.\n",
      "joe biden: joe bidensee.\n",
      "barack obama: gerrii e sns.\n",
      "\n",
      "Names generated after epoch 2000:\n",
      "alex kahanek: aet  reensss.\n",
      "joe biden: joe bidensee.\n",
      "barack obama: jer iiiessns.\n",
      "\n",
      "Names generated after epoch 3000:\n",
      "alex kahanek: clt  oensiss.\n",
      "joe biden: joe biden se.\n",
      "barack obama: jerniiee sns.\n",
      "\n",
      "Names generated after epoch 4000:\n",
      "alex kahanek: al   orrssss.\n",
      "joe biden: joe bidensbe.\n",
      "barack obama: bor iiae sns.\n",
      "\n",
      "Names generated after epoch 5000:\n",
      "alex kahanek: al   oenesss.\n",
      "joe biden: joe biden ee.\n",
      "barack obama: jor iiiessns.\n",
      "\n",
      "Names generated after epoch 6000:\n",
      "alex kahanek: pe   rednnss.\n",
      "joe biden: joe bidennke.\n",
      "barack obama: jeriiiee snr.\n",
      "\n",
      "Names generated after epoch 7000:\n",
      "alex kahanek: be   odknnss.\n",
      "joe biden: joe bidenzbd.\n",
      "barack obama: jorriiee snn.\n",
      "\n",
      "Names generated after epoch 8000:\n",
      "alex kahanek: ce   oednsss.\n",
      "joe biden: joe bidensed.\n",
      "barack obama: pernii e sns.\n",
      "\n",
      "Names generated after epoch 9000:\n",
      "alex kahanek: ae   oednnss.\n",
      "joe biden: joe bidensbz.\n",
      "barack obama: lernii essnn.\n",
      "\n",
      "INFO:tensorflow:Assets written to: model.output\\assets\n"
     ]
    }
   ],
   "source": [
    "def generate_name_loop(epoch, _):\n",
    "    if epoch % 999 == 0:\n",
    "        \n",
    "        print('Names generated after epoch %d:' % epoch)\n",
    "\n",
    "        for i, name in enumerate(['alex kahanek', 'joe biden', 'barack obama']):\n",
    "            generate_name(model, limit = 13, input = name)\n",
    "        \n",
    "        print()\n",
    "      \n",
    "name_generator = LambdaCallback(on_epoch_end = generate_name_loop)\n",
    "\n",
    "model.fit(output, label, batch_size=64, epochs=10000, callbacks=[name_generator], verbose=0)\n",
    "\n",
    "model.save(\"model.output\")"
   ]
  },
  {
   "cell_type": "code",
   "execution_count": 333,
   "metadata": {},
   "outputs": [],
   "source": [
    "from tensorflow import keras\n",
    "model = keras.models.load_model(\"model.output\")"
   ]
  },
  {
   "cell_type": "code",
   "execution_count": 414,
   "metadata": {},
   "outputs": [
    {
     "output_type": "stream",
     "name": "stdout",
     "text": [
      "alex kahanek: hnannyy  coo.\n"
     ]
    }
   ],
   "source": [
    "generate_name(model, limit = 13, input = 'alex kahanek')"
   ]
  },
  {
   "cell_type": "code",
   "execution_count": null,
   "metadata": {},
   "outputs": [],
   "source": []
  }
 ]
}